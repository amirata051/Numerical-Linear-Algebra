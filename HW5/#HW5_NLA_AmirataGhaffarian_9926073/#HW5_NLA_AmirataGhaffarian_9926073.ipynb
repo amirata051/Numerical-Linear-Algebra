{
  "nbformat": 4,
  "nbformat_minor": 0,
  "metadata": {
    "colab": {
      "provenance": []
    },
    "kernelspec": {
      "name": "python3",
      "display_name": "Python 3"
    },
    "language_info": {
      "name": "python"
    }
  },
  "cells": [
    {
      "cell_type": "code",
      "execution_count": 1,
      "metadata": {
        "colab": {
          "base_uri": "https://localhost:8080/"
        },
        "id": "glkkQ0_26XG8",
        "outputId": "6bac27d6-f367-46e3-ad51-52d541098f1f"
      },
      "outputs": [
        {
          "output_type": "stream",
          "name": "stdout",
          "text": [
            "Characteristic equation coefficients: [6. 5. 1.]\n",
            "Eigenvalues: [11.  1.  2.]\n",
            "Eigenvectors:\n",
            "[[ 0.          0.          1.        ]\n",
            " [ 0.4472136   0.89442719  0.        ]\n",
            " [ 0.89442719 -0.4472136   0.        ]]\n",
            "0.0\n",
            "V_1 = [-6 -2 -2]\n",
            "V_tilda_1 = [-1.         -0.33333333 -0.33333333]\n",
            "\n",
            "V_2 = [-2.         -0.66666667 -0.66666667]\n",
            "V_tilda_2 = [-1.         -0.33333333 -0.33333333]\n",
            "\n",
            "V_3 = [-2.         -0.66666667 -0.66666667]\n",
            "V_tilda_3 = [-1.         -0.33333333 -0.33333333]\n",
            "\n",
            "V_4 = [-2.         -0.66666667 -0.66666667]\n",
            "V_tilda_4 = [-1.         -0.33333333 -0.33333333]\n",
            "\n",
            "V_5 = [-2.         -0.66666667 -0.66666667]\n",
            "V_tilda_5 = [-1.         -0.33333333 -0.33333333]\n",
            "\n",
            "V_6 = [-2.         -0.66666667 -0.66666667]\n",
            "V_tilda_6 = [-1.         -0.33333333 -0.33333333]\n",
            "\n",
            "V_7 = [-2.         -0.66666667 -0.66666667]\n",
            "V_tilda_7 = [-1.         -0.33333333 -0.33333333]\n",
            "\n",
            "V_8 = [-2.         -0.66666667 -0.66666667]\n",
            "V_tilda_8 = [-1.         -0.33333333 -0.33333333]\n",
            "\n",
            "V_9 = [-2.         -0.66666667 -0.66666667]\n",
            "V_tilda_9 = [-1.         -0.33333333 -0.33333333]\n",
            "\n",
            "V_10 = [-2.         -0.66666667 -0.66666667]\n",
            "V_tilda_10 = [-1.         -0.33333333 -0.33333333]\n",
            "\n"
          ]
        }
      ],
      "source": [
        "import numpy as np\n",
        "\n",
        "def characteristic_equation(matrix):\n",
        "    coefficients = np.poly(matrix).real\n",
        "\n",
        "    coefficients = np.flip(coefficients)\n",
        "\n",
        "    return coefficients\n",
        "\n",
        "matrix = np.array([[1, -3], [4, -6]])\n",
        "coefficients = characteristic_equation(matrix)\n",
        "print(\"Characteristic equation coefficients:\", coefficients)\n",
        "\n",
        "import numpy as np\n",
        "\n",
        "A = np.array([[3,-2,-1], [1,-2,1],[1,-1,0]])\n",
        "matrix = np.array([[2,0,0], [0,3,4],[0,4,9]])\n",
        "eigenvalues, eigenvectors = np.linalg.eig(matrix)\n",
        "\n",
        "print(\"Eigenvalues:\", eigenvalues)\n",
        "print(\"Eigenvectors:\")\n",
        "print(eigenvectors)\n",
        "print(np.linalg.det(A))\n",
        "\n",
        "V0 = np.array([-1,1,1])\n",
        "\n",
        "def power_method(A,V,n):\n",
        "    for i in range(1,n+1):\n",
        "        V = A @ V\n",
        "        print(f\"V_{i} = {V}\")\n",
        "        V = V / np.max(np.abs(V))\n",
        "        print(f\"V_tilda_{i} = {V}\")\n",
        "        print()\n",
        "power_method(A,V0,10)\n",
        "\n"
      ]
    }
  ]
}